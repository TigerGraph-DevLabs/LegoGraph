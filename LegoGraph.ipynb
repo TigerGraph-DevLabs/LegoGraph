{
  "nbformat": 4,
  "nbformat_minor": 2,
  "metadata": {
    "colab": {
      "name": "Copy of TigerGraph and Kaggle.ipynb",
      "provenance": []
    },
    "kernelspec": {
      "name": "python3",
      "display_name": "Python 3"
    },
    "language_info": {
      "name": "python"
    }
  },
  "cells": [
    {
      "cell_type": "markdown",
      "source": [
        "# Lego Graph (TigerGraph and Kaggle)"
      ],
      "metadata": {
        "id": "ueOxoo2wjCTo"
      }
    },
    {
      "cell_type": "markdown",
      "source": [
        "## Create your TigerGraph Graph"
      ],
      "metadata": {
        "id": "U4WA5gxw37V7"
      }
    },
    {
      "cell_type": "markdown",
      "source": [
        "### Graph"
      ],
      "metadata": {
        "id": "9w0WWeqH5WQH"
      }
    },
    {
      "cell_type": "code",
      "execution_count": null,
      "source": [
        "!pip install pyTigerGraph"
      ],
      "outputs": [
        {
          "output_type": "stream",
          "name": "stdout",
          "text": [
            "Collecting pyTigerGraph\n",
            "  Downloading https://files.pythonhosted.org/packages/b3/9c/9e323066d6b33e119a1758340fce4c425e668d98df7b7ddf111046ae9007/pyTigerGraph-0.0.9.6.9-py3-none-any.whl\n",
            "Requirement already satisfied: pandas in /usr/local/lib/python3.7/dist-packages (from pyTigerGraph) (1.1.5)\n",
            "Collecting pyTigerDriver==1.0.13\n",
            "  Downloading https://files.pythonhosted.org/packages/37/6b/b8847c67c84708acad62c166015244bc83b9e639ef93bfaa4b0ad7bbbb38/pyTigerDriver-1.0.13-py3-none-any.whl\n",
            "Requirement already satisfied: requests in /usr/local/lib/python3.7/dist-packages (from pyTigerGraph) (2.23.0)\n",
            "Collecting validators\n",
            "  Downloading https://files.pythonhosted.org/packages/db/2f/7fed3ee94ad665ad2c1de87f858f10a7785251ff75b4fd47987888d07ef1/validators-0.18.2-py3-none-any.whl\n",
            "Requirement already satisfied: numpy>=1.15.4 in /usr/local/lib/python3.7/dist-packages (from pandas->pyTigerGraph) (1.19.5)\n",
            "Requirement already satisfied: python-dateutil>=2.7.3 in /usr/local/lib/python3.7/dist-packages (from pandas->pyTigerGraph) (2.8.1)\n",
            "Requirement already satisfied: pytz>=2017.2 in /usr/local/lib/python3.7/dist-packages (from pandas->pyTigerGraph) (2018.9)\n",
            "Requirement already satisfied: idna<3,>=2.5 in /usr/local/lib/python3.7/dist-packages (from requests->pyTigerGraph) (2.10)\n",
            "Requirement already satisfied: chardet<4,>=3.0.2 in /usr/local/lib/python3.7/dist-packages (from requests->pyTigerGraph) (3.0.4)\n",
            "Requirement already satisfied: urllib3!=1.25.0,!=1.25.1,<1.26,>=1.21.1 in /usr/local/lib/python3.7/dist-packages (from requests->pyTigerGraph) (1.24.3)\n",
            "Requirement already satisfied: certifi>=2017.4.17 in /usr/local/lib/python3.7/dist-packages (from requests->pyTigerGraph) (2021.5.30)\n",
            "Requirement already satisfied: decorator>=3.4.0 in /usr/local/lib/python3.7/dist-packages (from validators->pyTigerGraph) (4.4.2)\n",
            "Requirement already satisfied: six>=1.4.0 in /usr/local/lib/python3.7/dist-packages (from validators->pyTigerGraph) (1.15.0)\n",
            "Installing collected packages: pyTigerDriver, validators, pyTigerGraph\n",
            "Successfully installed pyTigerDriver-1.0.13 pyTigerGraph-0.0.9.6.9 validators-0.18.2\n"
          ]
        }
      ],
      "metadata": {
        "colab": {
          "base_uri": "https://localhost:8080/"
        },
        "id": "UeLxK_VM4Jgw",
        "outputId": "92ff5b27-ce32-40d8-af3f-0225568b7bbb"
      }
    },
    {
      "cell_type": "code",
      "execution_count": null,
      "source": [
        "import pyTigerGraph as tg \n",
        "\n",
        "conn = tg.TigerGraphConnection(host=\"https://test.i.tgcloud.io/\", password=\"tigergraph\")"
      ],
      "outputs": [],
      "metadata": {
        "id": "iRh-lmAw4K_Y"
      }
    },
    {
      "cell_type": "code",
      "execution_count": null,
      "source": [
        "# NOTE: ONLY UNCOMMENT FOR EMERGENCIES!! IT WILL DELETE EVERYTHING FROM YOUR GRAPH!\n",
        "\n",
        "# print(conn.gsql('''DROP ALL'''))"
      ],
      "outputs": [
        {
          "output_type": "stream",
          "name": "stdout",
          "text": [
            "Dropping all, about 1 minute ...\n",
            "Abort all active loading jobs\n",
            "Try to abort all loading jobs on graph LegoGraph, it may take a while ...\n",
            "[ABORT_SUCCESS] No active Loading Job to abort.\n",
            "Resetting GPE...\n",
            "Successfully reset GPE\n",
            "Stopping GPE GSE\n",
            "Successfully stopped GPE GSE in 7.410 seconds\n",
            "Clearing graph store...\n",
            "Successfully cleared graph store\n",
            "Starting GPE GSE RESTPP\n",
            "Successfully started GPE GSE RESTPP in 0.094 seconds\n",
            "Everything is dropped.\n"
          ]
        }
      ],
      "metadata": {
        "colab": {
          "base_uri": "https://localhost:8080/"
        },
        "id": "KstPlN7F4pPx",
        "outputId": "c3c69be7-6dd2-47e2-86b7-715105576d05"
      }
    },
    {
      "cell_type": "code",
      "execution_count": null,
      "source": [
        "print(conn.gsql('''\n",
        "CREATE VERTEX Colour(PRIMARY_ID colour_id STRING, colour_name STRING, rgb STRING, transparent STRING)\n",
        "CREATE VERTEX Inventory(PRIMARY_ID inventory_id STRING) WITH PRIMARY_ID_AS_ATTRIBUTE=\"true\"\n",
        "CREATE VERTEX Version(PRIMARY_ID version_id INT) WITH PRIMARY_ID_AS_ATTRIBUTE=\"true\"\n",
        "CREATE VERTEX Lego_Set(PRIMARY_ID set_num STRING, num_parts INT) WITH PRIMARY_ID_AS_ATTRIBUTE=\"true\"\n",
        "CREATE VERTEX Part(PRIMARY_ID part_num STRING, part_name STRING)\n",
        "CREATE VERTEX Part_Category(PRIMARY_ID part_cat_num STRING, part_name STRING)\n",
        "CREATE VERTEX Theme(PRIMARY_ID theme_id STRING, theme_name STRING, theme_number INT) WITH PRIMARY_ID_AS_ATTRIBUTE=\"true\"\n",
        "CREATE VERTEX Year(PRIMARY_ID year INT) WITH PRIMARY_ID_AS_ATTRIBUTE=\"true\"\n",
        "\n",
        "CREATE UNDIRECTED EDGE INVENTORY_VERSION(FROM Inventory, TO Version)\n",
        "CREATE UNDIRECTED EDGE INVENTORY_LEGO_SET(FROM Inventory, TO Lego_Set, quantity INT)\n",
        "CREATE UNDIRECTED EDGE LEGO_SET_THEME(FROM Lego_Set, TO Theme)\n",
        "CREATE UNDIRECTED EDGE LEGO_SET_YEAR(FROM Lego_Set, TO Year)\n",
        "CREATE UNDIRECTED EDGE INVENTORY_PART(FROM Inventory, TO Part, quantity INT, spare STRING)\n",
        "CREATE UNDIRECTED EDGE PART_COLOUR(FROM Part, TO Colour)\n",
        "CREATE UNDIRECTED EDGE PART_CATEGORY_PART(FROM Part_Category, TO Part)\n",
        "CREATE DIRECTED EDGE PARENT_THEME(FROM Theme, TO Theme)\n",
        "'''))"
      ],
      "outputs": [
        {
          "output_type": "stream",
          "name": "stdout",
          "text": [
            "The vertex type Colour is created.\n",
            "The vertex type Inventory is created.\n",
            "The vertex type Version is created.\n",
            "The vertex type Lego_Set is created.\n",
            "The vertex type Part is created.\n",
            "The vertex type Part_Category is created.\n",
            "The vertex type Theme is created.\n",
            "The vertex type Year is created.\n",
            "The edge type INVENTORY_VERSION is created.\n",
            "The edge type INVENTORY_LEGO_SET is created.\n",
            "The edge type LEGO_SET_THEME is created.\n",
            "The edge type LEGO_SET_YEAR is created.\n",
            "The edge type INVENTORY_PART is created.\n",
            "The edge type PART_COLOUR is created.\n",
            "The edge type PART_CATEGORY_PART is created.\n",
            "The edge type PARENT_THEME is created.\n"
          ]
        }
      ],
      "metadata": {
        "colab": {
          "base_uri": "https://localhost:8080/"
        },
        "id": "Y14ssA-l4RhB",
        "outputId": "49f0c0ab-e393-4960-de8b-0f96f0584d62"
      }
    },
    {
      "cell_type": "code",
      "execution_count": null,
      "source": [
        "print(conn.gsql('''\n",
        "CREATE GRAPH LegoGraph(\n",
        "  Colour, Inventory, Version, Lego_Set, Part, Part_Category, Theme, Year,\n",
        "  INVENTORY_VERSION, INVENTORY_LEGO_SET, LEGO_SET_THEME, LEGO_SET_YEAR, INVENTORY_PART, PART_COLOUR, PART_CATEGORY_PART, PARENT_THEME\n",
        ")\n",
        "'''))"
      ],
      "outputs": [
        {
          "output_type": "stream",
          "name": "stdout",
          "text": [
            "Stopping GPE GSE RESTPP\n",
            "Successfully stopped GPE GSE RESTPP in 0.333 seconds\n",
            "Starting GPE GSE RESTPP\n",
            "Successfully started GPE GSE RESTPP in 0.097 seconds\n",
            "The graph LegoGraph is created.\n"
          ]
        }
      ],
      "metadata": {
        "colab": {
          "base_uri": "https://localhost:8080/"
        },
        "id": "9Q5qSJK44mQd",
        "outputId": "ea0e83c9-621c-4dae-96d1-400d95b5a1e1"
      }
    },
    {
      "cell_type": "code",
      "execution_count": null,
      "source": [
        "conn.graphname = \"LegoGraph\"\n",
        "conn.apiToken = conn.getToken(conn.createSecret())"
      ],
      "outputs": [],
      "metadata": {
        "id": "mkhKYWAE5Kt1"
      }
    },
    {
      "cell_type": "markdown",
      "source": [
        "### Grab Kaggle Data\n",
        "\n",
        "\n",
        "\n"
      ],
      "metadata": {
        "id": "jrmSG_bxD6qZ"
      }
    },
    {
      "cell_type": "code",
      "execution_count": null,
      "source": [
        "! pip install -q kaggle"
      ],
      "outputs": [],
      "metadata": {
        "id": "A7NDlz_aEQkC"
      }
    },
    {
      "cell_type": "markdown",
      "source": [
        "Go to your Settings, click Account, scroll down to API. \n",
        "\n",
        "**Press \"Expire\" then \"Create New Token\". It will download a kaggle.json; upload it to the selector below.**\n",
        "\n"
      ],
      "metadata": {
        "id": "ybcgIivqKI1V"
      }
    },
    {
      "cell_type": "code",
      "execution_count": null,
      "source": [
        "from google.colab import files\n",
        "\n",
        "files.upload()"
      ],
      "outputs": [
        {
          "output_type": "display_data",
          "data": {
            "text/html": [
              "\n",
              "     <input type=\"file\" id=\"files-e12a4c2c-5a8f-4da2-ae0e-2368bb1a6dc4\" name=\"files[]\" multiple disabled\n",
              "        style=\"border:none\" />\n",
              "     <output id=\"result-e12a4c2c-5a8f-4da2-ae0e-2368bb1a6dc4\">\n",
              "      Upload widget is only available when the cell has been executed in the\n",
              "      current browser session. Please rerun this cell to enable.\n",
              "      </output>\n",
              "      <script src=\"/nbextensions/google.colab/files.js\"></script> "
            ],
            "text/plain": [
              "<IPython.core.display.HTML object>"
            ]
          },
          "metadata": {
            "tags": []
          }
        },
        {
          "output_type": "stream",
          "name": "stdout",
          "text": [
            "Saving kaggle (2).json to kaggle (2).json\n"
          ]
        },
        {
          "output_type": "execute_result",
          "data": {
            "text/plain": [
              "{'kaggle (2).json': b'{\"username\":\"genericp3rson\",\"key\":\"c6f4d01eccb13b0ae48a5ed10e7764c9\"}'}"
            ]
          },
          "metadata": {
            "tags": []
          },
          "execution_count": 29
        }
      ],
      "metadata": {
        "colab": {
          "resources": {
            "http://localhost:8080/nbextensions/google.colab/files.js": {
              "data": "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",
              "ok": true,
              "headers": [
                [
                  "content-type",
                  "application/javascript"
                ]
              ],
              "status": 200,
              "status_text": ""
            }
          },
          "base_uri": "https://localhost:8080/",
          "height": 89
        },
        "id": "Yu3-UPcuEQkD",
        "outputId": "35ff8028-4686-4f19-be72-676e512d6e09"
      }
    },
    {
      "cell_type": "code",
      "execution_count": null,
      "source": [
        "! mkdir ~/.kaggle\n",
        "\n",
        "! cp kaggle.json ~/.kaggle/\n",
        "\n",
        "! chmod 600 ~/.kaggle/kaggle.json\n",
        "\n",
        "! kaggle datasets list"
      ],
      "outputs": [
        {
          "output_type": "stream",
          "name": "stdout",
          "text": [
            "mkdir: cannot create directory ‘/root/.kaggle’: File exists\n",
            "Warning: Looks like you're using an outdated API Version, please consider updating (server 1.5.12 / client 1.5.4)\n",
            "ref                                                           title                                              size  lastUpdated          downloadCount  \n",
            "------------------------------------------------------------  ------------------------------------------------  -----  -------------------  -------------  \n",
            "gpreda/reddit-vaccine-myths                                   Reddit Vaccine Myths                              233KB  2021-07-07 19:18:09           8905  \n",
            "crowww/a-large-scale-fish-dataset                             A Large Scale Fish Dataset                          3GB  2021-04-28 17:03:01           5460  \n",
            "imsparsh/musicnet-dataset                                     MusicNet Dataset                                   22GB  2021-02-18 14:12:19           1962  \n",
            "dhruvildave/wikibooks-dataset                                 Wikibooks Dataset                                   2GB  2021-07-03 18:37:20           2365  \n",
            "promptcloud/careerbuilder-job-listing-2020                    Careerbuilder Job Listing 2020                     42MB  2021-03-05 06:59:52           1270  \n",
            "fatiimaezzahra/famous-iconic-women                            Famous Iconic Women                               838MB  2021-02-28 14:56:00            907  \n",
            "nickuzmenkov/nih-chest-xrays-tfrecords                        NIH Chest X-rays TFRecords                         11GB  2021-03-09 04:49:23            704  \n",
            "coloradokb/dandelionimages                                    DandelionImages                                     4GB  2021-02-19 20:03:47            664  \n",
            "mathurinache/twitter-edge-nodes                               Twitter Edge Nodes                                342MB  2021-03-08 06:43:04            620  \n",
            "simiotic/github-code-snippets                                 GitHub Code Snippets                                7GB  2021-03-03 11:34:39            206  \n",
            "alsgroup/end-als                                              End ALS Kaggle Challenge                           12GB  2021-04-08 12:16:37            762  \n",
            "landrykezebou/lvzhdr-tone-mapping-benchmark-dataset-tmonet    LVZ-HDR Tone Mapping Benchmark Dataset (TMO-Net)   24GB  2021-03-01 05:03:40            150  \n",
            "mathurinache/the-lj-speech-dataset                            The LJ Speech Dataset                               3GB  2021-02-15 09:19:54            224  \n",
            "nickuzmenkov/ranzcr-clip-kfold-tfrecords                      RANZCR CLiP KFold TFRecords                         2GB  2021-02-21 13:29:51             98  \n",
            "imsparsh/accentdb-core-extended                               AccentDB - Core & Extended                          6GB  2021-02-17 14:22:54             88  \n",
            "stuartjames/lights                                            LightS: Light Specularity Dataset                  18GB  2021-02-18 14:32:26             87  \n",
            "jessicali9530/animal-crossing-new-horizons-nookplaza-dataset  Animal Crossing New Horizons Catalog              577KB  2021-06-08 15:05:09           4668  \n",
            "datasnaek/youtube-new                                         Trending YouTube Video Statistics                 201MB  2019-06-03 00:56:47         144068  \n",
            "zynicide/wine-reviews                                         Wine Reviews                                       51MB  2017-11-27 17:08:04         139739  \n",
            "residentmario/ramen-ratings                                   Ramen Ratings                                      40KB  2018-01-11 16:04:39          24697  \n"
          ]
        }
      ],
      "metadata": {
        "colab": {
          "base_uri": "https://localhost:8080/"
        },
        "id": "OAJMQLapEQkD",
        "outputId": "bed15e8e-2bcb-4f72-ac34-ed5d4e60b519"
      }
    },
    {
      "cell_type": "code",
      "execution_count": null,
      "source": [
        "! kaggle datasets download -d rtatman/lego-database\n",
        "! unzip lego-database.zip -d train\n",
        "! ls train"
      ],
      "outputs": [
        {
          "output_type": "stream",
          "name": "stdout",
          "text": [
            "Downloading lego-database.zip to /content\n",
            "\r  0% 0.00/2.94M [00:00<?, ?B/s]\n",
            "\r100% 2.94M/2.94M [00:00<00:00, 96.8MB/s]\n",
            "Archive:  lego-database.zip\n",
            "  inflating: train/colors.csv        \n",
            "  inflating: train/downloads_schema.png  \n",
            "  inflating: train/inventories.csv   \n",
            "  inflating: train/inventory_parts.csv  \n",
            "  inflating: train/inventory_sets.csv  \n",
            "  inflating: train/part_categories.csv  \n",
            "  inflating: train/parts.csv         \n",
            "  inflating: train/sets.csv          \n",
            "  inflating: train/themes.csv        \n",
            "colors.csv\t      inventory_parts.csv  parts.csv\n",
            "downloads_schema.png  inventory_sets.csv   sets.csv\n",
            "inventories.csv       part_categories.csv  themes.csv\n"
          ]
        }
      ],
      "metadata": {
        "id": "f2bZnXbaEV_A",
        "colab": {
          "base_uri": "https://localhost:8080/"
        },
        "outputId": "c2d198d4-040e-4d6d-ce7a-b189ab7d07c1"
      }
    },
    {
      "cell_type": "markdown",
      "source": [
        "### Loading Data"
      ],
      "metadata": {
        "id": "EbxCDKQ55aE-"
      }
    },
    {
      "cell_type": "code",
      "execution_count": null,
      "source": [
        "import pandas as pd \n",
        "\n",
        "colours = pd.read_csv(\"train/colors.csv\")\n",
        "parts = pd.read_csv(\"train/parts.csv\")\n",
        "lego_sets = pd.read_csv(\"train/sets.csv\")\n",
        "themes = pd.read_csv(\"train/themes.csv\")\n",
        "inventories = pd.read_csv(\"train/inventories.csv\")\n",
        "inventory_parts = pd.read_csv(\"train/inventory_parts.csv\")\n",
        "inventory_sets = pd.read_csv(\"train/inventory_sets.csv\")\n",
        "part_categories = pd.read_csv(\"train/part_categories.csv\")"
      ],
      "outputs": [],
      "metadata": {
        "id": "k-3eGH295gnY"
      }
    },
    {
      "cell_type": "code",
      "execution_count": null,
      "source": [
        "conn.upsertVertexDataFrame(colours, \"Colour\", \"id\", attributes={\"colour_name\": \"name\", \"rgb\": \"rgb\", \"transparent\": \"is_trans\"})\n",
        "conn.upsertVertexDataFrame(parts, \"Part\", \"part_num\", attributes={\"part_name\": \"name\"})\n",
        "conn.upsertVertexDataFrame(lego_sets, \"Lego_Set\", \"set_num\", attributes={\"set_num\": \"set_num\", \"num_parts\": \"num_parts\"})\n",
        "conn.upsertVertexDataFrame(themes, \"Theme\", \"id\", attributes={\"theme_number\": \"id\", \"theme_name\": \"name\"})\n",
        "conn.upsertVertexDataFrame(lego_sets, \"Year\", \"year\", attributes={\"year\": \"year\"})\n",
        "conn.upsertVertexDataFrame(inventories, \"Inventory\", \"id\", attributes={})\n",
        "conn.upsertVertexDataFrame(inventories, \"Version\", \"version\", attributes={\"version_id\": \"version\"})\n",
        "conn.upsertVertexDataFrame(part_categories, \"Part_Category\", \"id\", attributes={\"part_name\": \"name\"})\n",
        "\n",
        "conn.upsertEdgeDataFrame(inventories, \"Inventory\", \"INVENTORY_VERSION\", \"Version\", \"id\", \"version\", attributes={})\n",
        "conn.upsertEdgeDataFrame(lego_sets, \"Lego_Set\", \"LEGO_SET_THEME\", \"Theme\", \"set_num\", \"theme_id\", attributes={})\n",
        "conn.upsertEdgeDataFrame(parts, \"Part_Category\", \"PART_CATEGORY_PART\", \"Part\", from_id=\"part_cat_id\", to_id=\"part_num\", attributes={})\n",
        "conn.upsertEdgeDataFrame(lego_sets, \"Lego_Set\", \"LEGO_SET_YEAR\", \"Year\", \"set_num\", \"year\", attributes={})\n",
        "conn.upsertEdgeDataFrame(themes, \"Theme\", \"PARENT_THEME\", \"Theme\", \"name\", \"parent_id\", attributes={})\n",
        "conn.upsertEdgeDataFrame(inventories, \"Inventory\", \"INVENTORY_LEGO_SET\", \"Lego_Set\", \"id\", \"set_num\", attributes={})\n",
        "conn.upsertEdgeDataFrame(inventories, \"Inventory\", \"INVENTORY_VERSION\", \"Version\", \"id\", \"version\", attributes={})\n",
        "conn.upsertEdgeDataFrame(inventory_parts, \"Inventory\", \"INVENTORY_PART\", \"Part\", \"inventory_id\", \"part_num\", attributes={\"quantity\": \"quantity\", \"spare\": \"is_spare\"})\n",
        "conn.upsertEdgeDataFrame(inventory_parts, \"Part\", \"PART_COLOUR\", \"Colour\", \"part_num\", \"color_id\", attributes={})\n",
        "conn.upsertEdgeDataFrame(inventory_sets, \"Inventory\", \"INVENTORY_LEGO_SET\", \"Lego_Set\", \"inventory_id\", \"set_num\", attributes={\"quantity\": \"quantity\"})"
      ],
      "outputs": [
        {
          "output_type": "execute_result",
          "data": {
            "text/plain": [
              "2846"
            ]
          },
          "metadata": {
            "tags": []
          },
          "execution_count": 51
        }
      ],
      "metadata": {
        "colab": {
          "base_uri": "https://localhost:8080/"
        },
        "id": "ulhak-BY5Rl5",
        "outputId": "5d31e17b-967c-4bef-a614-145f1824fe6a"
      }
    }
  ]
}